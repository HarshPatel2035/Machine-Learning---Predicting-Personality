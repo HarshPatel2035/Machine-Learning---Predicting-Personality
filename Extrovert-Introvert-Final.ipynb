{
 "cells": [
  {
   "cell_type": "markdown",
   "id": "7c5e5c9f",
   "metadata": {},
   "source": [
    "# Personality Prediction: Extrovert vs Introvert\n",
    "This notebook predicts personality types (Extrovert or Introvert) using behavioral data and machine learning classifiers."
   ]
  },
  {
   "cell_type": "markdown",
   "id": "8afa8d9d",
   "metadata": {},
   "source": [
    "## 1. Importing Required Libraries\n",
    "We begin by importing essential libraries for data analysis, visualization, preprocessing, and model building."
   ]
  },
  {
   "cell_type": "code",
   "execution_count": 1,
   "id": "2fbe392b-5aa8-4a53-9cfa-ea84abe0b9d0",
   "metadata": {},
   "outputs": [],
   "source": [
    "import pandas as pd\n",
    "import numpy as np\n",
    "import seaborn as sns\n",
    "\n",
    "from sklearn.decomposition import PCA\n",
    "from sklearn.preprocessing import StandardScaler\n",
    "from sklearn.model_selection import train_test_split,cross_val_score\n",
    "from sklearn.compose import ColumnTransformer\n",
    "from sklearn.linear_model import LogisticRegression\n",
    "from sklearn.naive_bayes import GaussianNB\n",
    "from sklearn.neighbors import KNeighborsClassifier\n",
    "from sklearn.ensemble import RandomForestClassifier,AdaBoostClassifier,GradientBoostingClassifier,StackingClassifier\n",
    "from sklearn.impute import SimpleImputer,KNNImputer\n",
    "from sklearn.ensemble import VotingClassifier\n",
    "from sklearn.model_selection import GridSearchCV\n",
    "from sklearn.svm import SVC\n",
    "from sklearn.preprocessing import OrdinalEncoder,LabelEncoder\n",
    "from sklearn.preprocessing import OneHotEncoder\n",
    "from sklearn.tree import DecisionTreeClassifier\n",
    "from sklearn.metrics import r2_score\n",
    "from sklearn.metrics import accuracy_score"
   ]
  },
  {
   "cell_type": "markdown",
   "id": "ca4f5743",
   "metadata": {},
   "source": [
    "## 2. Loading the Dataset\n",
    "We load the training and test datasets and do initial adjustments like dropping unnecessary columns."
   ]
  },
  {
   "cell_type": "code",
   "execution_count": 2,
   "id": "33be0922-85bf-45c8-99a1-671e14460ab8",
   "metadata": {},
   "outputs": [],
   "source": [
    "train = pd.read_csv('train.csv')\n",
    "test = pd.read_csv('test.csv')\n",
    "ids = test.id\n",
    "train = train.iloc[:,1:]\n",
    "test = test.iloc[:,1:]"
   ]
  },
  {
   "cell_type": "markdown",
   "id": "dc7161b3",
   "metadata": {},
   "source": [
    "## 3. Exploring the Training Data\n",
    "Let's display the first few rows of the training data to understand its structure and the features involved."
   ]
  },
  {
   "cell_type": "code",
   "execution_count": 3,
   "id": "9ba35534-b085-4d5a-8e41-57002b2f2e66",
   "metadata": {},
   "outputs": [
    {
     "data": {
      "text/html": [
       "<div>\n",
       "<style scoped>\n",
       "    .dataframe tbody tr th:only-of-type {\n",
       "        vertical-align: middle;\n",
       "    }\n",
       "\n",
       "    .dataframe tbody tr th {\n",
       "        vertical-align: top;\n",
       "    }\n",
       "\n",
       "    .dataframe thead th {\n",
       "        text-align: right;\n",
       "    }\n",
       "</style>\n",
       "<table border=\"1\" class=\"dataframe\">\n",
       "  <thead>\n",
       "    <tr style=\"text-align: right;\">\n",
       "      <th></th>\n",
       "      <th>Time_spent_Alone</th>\n",
       "      <th>Stage_fear</th>\n",
       "      <th>Social_event_attendance</th>\n",
       "      <th>Going_outside</th>\n",
       "      <th>Drained_after_socializing</th>\n",
       "      <th>Friends_circle_size</th>\n",
       "      <th>Post_frequency</th>\n",
       "    </tr>\n",
       "  </thead>\n",
       "  <tbody>\n",
       "    <tr>\n",
       "      <th>0</th>\n",
       "      <td>0.0</td>\n",
       "      <td>No</td>\n",
       "      <td>6.0</td>\n",
       "      <td>4.0</td>\n",
       "      <td>No</td>\n",
       "      <td>15.0</td>\n",
       "      <td>5.0</td>\n",
       "    </tr>\n",
       "    <tr>\n",
       "      <th>1</th>\n",
       "      <td>1.0</td>\n",
       "      <td>No</td>\n",
       "      <td>7.0</td>\n",
       "      <td>3.0</td>\n",
       "      <td>No</td>\n",
       "      <td>10.0</td>\n",
       "      <td>8.0</td>\n",
       "    </tr>\n",
       "    <tr>\n",
       "      <th>2</th>\n",
       "      <td>6.0</td>\n",
       "      <td>Yes</td>\n",
       "      <td>1.0</td>\n",
       "      <td>0.0</td>\n",
       "      <td>NaN</td>\n",
       "      <td>3.0</td>\n",
       "      <td>0.0</td>\n",
       "    </tr>\n",
       "    <tr>\n",
       "      <th>3</th>\n",
       "      <td>3.0</td>\n",
       "      <td>No</td>\n",
       "      <td>7.0</td>\n",
       "      <td>3.0</td>\n",
       "      <td>No</td>\n",
       "      <td>11.0</td>\n",
       "      <td>5.0</td>\n",
       "    </tr>\n",
       "    <tr>\n",
       "      <th>4</th>\n",
       "      <td>1.0</td>\n",
       "      <td>No</td>\n",
       "      <td>4.0</td>\n",
       "      <td>4.0</td>\n",
       "      <td>No</td>\n",
       "      <td>13.0</td>\n",
       "      <td>NaN</td>\n",
       "    </tr>\n",
       "    <tr>\n",
       "      <th>...</th>\n",
       "      <td>...</td>\n",
       "      <td>...</td>\n",
       "      <td>...</td>\n",
       "      <td>...</td>\n",
       "      <td>...</td>\n",
       "      <td>...</td>\n",
       "      <td>...</td>\n",
       "    </tr>\n",
       "    <tr>\n",
       "      <th>18519</th>\n",
       "      <td>3.0</td>\n",
       "      <td>No</td>\n",
       "      <td>7.0</td>\n",
       "      <td>3.0</td>\n",
       "      <td>No</td>\n",
       "      <td>9.0</td>\n",
       "      <td>7.0</td>\n",
       "    </tr>\n",
       "    <tr>\n",
       "      <th>18520</th>\n",
       "      <td>1.0</td>\n",
       "      <td>NaN</td>\n",
       "      <td>6.0</td>\n",
       "      <td>7.0</td>\n",
       "      <td>No</td>\n",
       "      <td>6.0</td>\n",
       "      <td>5.0</td>\n",
       "    </tr>\n",
       "    <tr>\n",
       "      <th>18521</th>\n",
       "      <td>7.0</td>\n",
       "      <td>Yes</td>\n",
       "      <td>1.0</td>\n",
       "      <td>1.0</td>\n",
       "      <td>Yes</td>\n",
       "      <td>1.0</td>\n",
       "      <td>NaN</td>\n",
       "    </tr>\n",
       "    <tr>\n",
       "      <th>18522</th>\n",
       "      <td>NaN</td>\n",
       "      <td>Yes</td>\n",
       "      <td>1.0</td>\n",
       "      <td>0.0</td>\n",
       "      <td>Yes</td>\n",
       "      <td>5.0</td>\n",
       "      <td>2.0</td>\n",
       "    </tr>\n",
       "    <tr>\n",
       "      <th>18523</th>\n",
       "      <td>1.0</td>\n",
       "      <td>No</td>\n",
       "      <td>8.0</td>\n",
       "      <td>6.0</td>\n",
       "      <td>No</td>\n",
       "      <td>4.0</td>\n",
       "      <td>7.0</td>\n",
       "    </tr>\n",
       "  </tbody>\n",
       "</table>\n",
       "<p>18524 rows × 7 columns</p>\n",
       "</div>"
      ],
      "text/plain": [
       "       Time_spent_Alone Stage_fear  Social_event_attendance  Going_outside  \\\n",
       "0                   0.0         No                      6.0            4.0   \n",
       "1                   1.0         No                      7.0            3.0   \n",
       "2                   6.0        Yes                      1.0            0.0   \n",
       "3                   3.0         No                      7.0            3.0   \n",
       "4                   1.0         No                      4.0            4.0   \n",
       "...                 ...        ...                      ...            ...   \n",
       "18519               3.0         No                      7.0            3.0   \n",
       "18520               1.0        NaN                      6.0            7.0   \n",
       "18521               7.0        Yes                      1.0            1.0   \n",
       "18522               NaN        Yes                      1.0            0.0   \n",
       "18523               1.0         No                      8.0            6.0   \n",
       "\n",
       "      Drained_after_socializing  Friends_circle_size  Post_frequency  \n",
       "0                            No                 15.0             5.0  \n",
       "1                            No                 10.0             8.0  \n",
       "2                           NaN                  3.0             0.0  \n",
       "3                            No                 11.0             5.0  \n",
       "4                            No                 13.0             NaN  \n",
       "...                         ...                  ...             ...  \n",
       "18519                        No                  9.0             7.0  \n",
       "18520                        No                  6.0             5.0  \n",
       "18521                       Yes                  1.0             NaN  \n",
       "18522                       Yes                  5.0             2.0  \n",
       "18523                        No                  4.0             7.0  \n",
       "\n",
       "[18524 rows x 7 columns]"
      ]
     },
     "execution_count": 3,
     "metadata": {},
     "output_type": "execute_result"
    }
   ],
   "source": [
    "Y = train.Personality\n",
    "train = train.iloc[:,:-1]\n",
    "train"
   ]
  },
  {
   "cell_type": "markdown",
   "id": "0aba996a",
   "metadata": {},
   "source": [
    "## 4. Handling Missing Values & Label Encoding\n",
    "We'll handle missing values using imputers and encode categorical variables (like 'Stage_fear') using `LabelEncoder`."
   ]
  },
  {
   "cell_type": "code",
   "execution_count": 4,
   "id": "6ac870e8-15a4-4953-abe9-dc2fd12ae0cc",
   "metadata": {},
   "outputs": [],
   "source": [
    "transformer = ColumnTransformer(\n",
    "    transformers = [\n",
    "        (\"trf1\", SimpleImputer(strategy='mean'), [\"Time_spent_Alone\",\"Social_event_attendance\",\"Going_outside\",\n",
    "                                                  \"Friends_circle_size\",\"Post_frequency\"]),\n",
    "        (\"trf2\",SimpleImputer(strategy=\"most_frequent\"),[\"Stage_fear\",\"Drained_after_socializing\"]),    \n",
    "    ],\n",
    "    remainder = \"passthrough\"\n",
    ")\n",
    "le = LabelEncoder()\n",
    "train['Stage_fear'] = le.fit_transform(train.Stage_fear)\n",
    "train['Drained_after_socializing'] =le.fit_transform(train.Drained_after_socializing)\n",
    "test['Stage_fear'] = le.fit_transform(test.Stage_fear)\n",
    "test['Drained_after_socializing'] =le.fit_transform(test.Drained_after_socializing)\n",
    "Y = le.fit_transform(Y)"
   ]
  },
  {
   "cell_type": "markdown",
   "id": "ee8160ee",
   "metadata": {},
   "source": [
    "\n",
    "## 5. Hyperparameter Tuning and Advanced Modeling Techniques\n",
    "\n",
    "In this section, we will:\n",
    "\n",
    "- Use **GridSearchCV** to perform hyperparameter tuning for models like SVM, Random Forest, etc.\n",
    "- Implement **Ensemble Models** like:\n",
    "  - **Stacking Classifier**: Combines predictions from multiple classifiers using a meta-classifier.\n",
    "  - **Boosting Techniques**: Use models such as AdaBoost and Gradient Boosting to improve performance by focusing on difficult samples.\n",
    "\n",
    "These techniques help increase the robustness and accuracy of our personality prediction model.\n"
   ]
  },
  {
   "cell_type": "code",
   "execution_count": 6,
   "id": "073ce599-e0ab-4e67-aab5-f6d5e259f278",
   "metadata": {},
   "outputs": [
    {
     "data": {
      "text/html": [
       "<div>\n",
       "<style scoped>\n",
       "    .dataframe tbody tr th:only-of-type {\n",
       "        vertical-align: middle;\n",
       "    }\n",
       "\n",
       "    .dataframe tbody tr th {\n",
       "        vertical-align: top;\n",
       "    }\n",
       "\n",
       "    .dataframe thead th {\n",
       "        text-align: right;\n",
       "    }\n",
       "</style>\n",
       "<table border=\"1\" class=\"dataframe\">\n",
       "  <thead>\n",
       "    <tr style=\"text-align: right;\">\n",
       "      <th></th>\n",
       "      <th>0</th>\n",
       "      <th>1</th>\n",
       "      <th>2</th>\n",
       "      <th>3</th>\n",
       "      <th>4</th>\n",
       "      <th>5</th>\n",
       "      <th>6</th>\n",
       "    </tr>\n",
       "  </thead>\n",
       "  <tbody>\n",
       "    <tr>\n",
       "      <th>0</th>\n",
       "      <td>0.0</td>\n",
       "      <td>6.0</td>\n",
       "      <td>4.0</td>\n",
       "      <td>15.0</td>\n",
       "      <td>5.0</td>\n",
       "      <td>0.0</td>\n",
       "      <td>0.0</td>\n",
       "    </tr>\n",
       "    <tr>\n",
       "      <th>1</th>\n",
       "      <td>1.0</td>\n",
       "      <td>7.0</td>\n",
       "      <td>3.0</td>\n",
       "      <td>10.0</td>\n",
       "      <td>8.0</td>\n",
       "      <td>0.0</td>\n",
       "      <td>0.0</td>\n",
       "    </tr>\n",
       "    <tr>\n",
       "      <th>2</th>\n",
       "      <td>6.0</td>\n",
       "      <td>1.0</td>\n",
       "      <td>0.0</td>\n",
       "      <td>3.0</td>\n",
       "      <td>0.0</td>\n",
       "      <td>1.0</td>\n",
       "      <td>2.0</td>\n",
       "    </tr>\n",
       "    <tr>\n",
       "      <th>3</th>\n",
       "      <td>3.0</td>\n",
       "      <td>7.0</td>\n",
       "      <td>3.0</td>\n",
       "      <td>11.0</td>\n",
       "      <td>5.0</td>\n",
       "      <td>0.0</td>\n",
       "      <td>0.0</td>\n",
       "    </tr>\n",
       "    <tr>\n",
       "      <th>4</th>\n",
       "      <td>1.0</td>\n",
       "      <td>4.0</td>\n",
       "      <td>4.0</td>\n",
       "      <td>13.0</td>\n",
       "      <td>6.1</td>\n",
       "      <td>0.0</td>\n",
       "      <td>0.0</td>\n",
       "    </tr>\n",
       "    <tr>\n",
       "      <th>...</th>\n",
       "      <td>...</td>\n",
       "      <td>...</td>\n",
       "      <td>...</td>\n",
       "      <td>...</td>\n",
       "      <td>...</td>\n",
       "      <td>...</td>\n",
       "      <td>...</td>\n",
       "    </tr>\n",
       "    <tr>\n",
       "      <th>18519</th>\n",
       "      <td>3.0</td>\n",
       "      <td>7.0</td>\n",
       "      <td>3.0</td>\n",
       "      <td>9.0</td>\n",
       "      <td>7.0</td>\n",
       "      <td>0.0</td>\n",
       "      <td>0.0</td>\n",
       "    </tr>\n",
       "    <tr>\n",
       "      <th>18520</th>\n",
       "      <td>1.0</td>\n",
       "      <td>6.0</td>\n",
       "      <td>7.0</td>\n",
       "      <td>6.0</td>\n",
       "      <td>5.0</td>\n",
       "      <td>2.0</td>\n",
       "      <td>0.0</td>\n",
       "    </tr>\n",
       "    <tr>\n",
       "      <th>18521</th>\n",
       "      <td>7.0</td>\n",
       "      <td>1.0</td>\n",
       "      <td>1.0</td>\n",
       "      <td>1.0</td>\n",
       "      <td>1.0</td>\n",
       "      <td>1.0</td>\n",
       "      <td>1.0</td>\n",
       "    </tr>\n",
       "    <tr>\n",
       "      <th>18522</th>\n",
       "      <td>6.9</td>\n",
       "      <td>1.0</td>\n",
       "      <td>0.0</td>\n",
       "      <td>5.0</td>\n",
       "      <td>2.0</td>\n",
       "      <td>1.0</td>\n",
       "      <td>1.0</td>\n",
       "    </tr>\n",
       "    <tr>\n",
       "      <th>18523</th>\n",
       "      <td>1.0</td>\n",
       "      <td>8.0</td>\n",
       "      <td>6.0</td>\n",
       "      <td>4.0</td>\n",
       "      <td>7.0</td>\n",
       "      <td>0.0</td>\n",
       "      <td>0.0</td>\n",
       "    </tr>\n",
       "  </tbody>\n",
       "</table>\n",
       "<p>18524 rows × 7 columns</p>\n",
       "</div>"
      ],
      "text/plain": [
       "         0    1    2     3    4    5    6\n",
       "0      0.0  6.0  4.0  15.0  5.0  0.0  0.0\n",
       "1      1.0  7.0  3.0  10.0  8.0  0.0  0.0\n",
       "2      6.0  1.0  0.0   3.0  0.0  1.0  2.0\n",
       "3      3.0  7.0  3.0  11.0  5.0  0.0  0.0\n",
       "4      1.0  4.0  4.0  13.0  6.1  0.0  0.0\n",
       "...    ...  ...  ...   ...  ...  ...  ...\n",
       "18519  3.0  7.0  3.0   9.0  7.0  0.0  0.0\n",
       "18520  1.0  6.0  7.0   6.0  5.0  2.0  0.0\n",
       "18521  7.0  1.0  1.0   1.0  1.0  1.0  1.0\n",
       "18522  6.9  1.0  0.0   5.0  2.0  1.0  1.0\n",
       "18523  1.0  8.0  6.0   4.0  7.0  0.0  0.0\n",
       "\n",
       "[18524 rows x 7 columns]"
      ]
     },
     "execution_count": 6,
     "metadata": {},
     "output_type": "execute_result"
    }
   ],
   "source": [
    "train = new.fit_transform(train)\n",
    "train = pd.DataFrame(train)\n",
    "test = new.fit_transform(test)\n",
    "test = pd.DataFrame(test)\n",
    "train"
   ]
  },
  {
   "cell_type": "code",
   "execution_count": 7,
   "id": "014fb39e-acdc-4fdb-8292-c82380604528",
   "metadata": {},
   "outputs": [
    {
     "data": {
      "text/plain": [
       "<Axes: xlabel='0', ylabel='1'>"
      ]
     },
     "execution_count": 7,
     "metadata": {},
     "output_type": "execute_result"
    },
    {
     "data": {
      "image/png": "[encoded data removed]",
      "text/plain": [
       "<Figure size 640x480 with 1 Axes>"
      ]
     },
     "metadata": {},
     "output_type": "display_data"
    }
   ],
   "source": [
    "pca = PCA(n_components=2)\n",
    "scaler = StandardScaler()\n",
    "X_scaled = scaler.fit_transform(train)\n",
    "X_pca = pca.fit_transform(X_scaled)\n",
    "x_pca = pd.DataFrame(X_pca)\n",
    "sns.scatterplot(x=x_pca[0],y=x_pca[1],hue=Y)"
   ]
  },
  {
   "cell_type": "code",
   "execution_count": 9,
   "id": "42e28774-36fc-4a4a-8d47-1e0d1d1366fa",
   "metadata": {},
   "outputs": [
    {
     "data": {
      "text/plain": [
       "np.float64(0.9693913571934487)"
      ]
     },
     "execution_count": 9,
     "metadata": {},
     "output_type": "execute_result"
    }
   ],
   "source": [
    "params = {\n",
    "    'n_estimators':[5,10,15,20,25,30,35,40],\n",
    "    'max_depth':[4,5,6,7,8,9,10],\n",
    "    'max_samples':[0.2,0.3,0.4,0.5,0.6,0.7],\n",
    "    'max_features':[0.2,0.3,0.4,0.5],\n",
    "}\n",
    "RF = GridSearchCV(\n",
    "    RandomForestClassifier(),\n",
    "    param_grid = params,\n",
    "    cv = 5,\n",
    "    n_jobs=-1\n",
    ")\n",
    "RF.fit(train,Y)\n",
    "RF.best_score_"
   ]
  },
  {
   "cell_type": "code",
   "execution_count": 10,
   "id": "7ac166ec-49d4-4a19-b95a-023a61fe437d",
   "metadata": {},
   "outputs": [
    {
     "data": {
      "text/plain": [
       "{'max_depth': 6, 'max_features': 0.2, 'max_samples': 0.5, 'n_estimators': 15}"
      ]
     },
     "execution_count": 10,
     "metadata": {},
     "output_type": "execute_result"
    }
   ],
   "source": [
    "RF.best_params_"
   ]
  },
  {
   "cell_type": "code",
   "execution_count": 11,
   "id": "ba6d8961-5467-429e-8749-e70fe1b37b85",
   "metadata": {},
   "outputs": [
    {
     "data": {
      "text/plain": [
       "np.float64(0.9689590110718826)"
      ]
     },
     "execution_count": 11,
     "metadata": {},
     "output_type": "execute_result"
    }
   ],
   "source": [
    "rf =  RandomForestClassifier(max_depth = 6, max_features = 0.4, max_samples = 0.3, n_estimators = 10)\n",
    "cross_val_score(rf,train,Y,cv = 10).mean()"
   ]
  },
  {
   "cell_type": "code",
   "execution_count": 12,
   "id": "4a4ce3bb-33f5-484a-934d-142301df080d",
   "metadata": {},
   "outputs": [],
   "source": [
    "params = {\n",
    "    'n_estimators':[25,50,100,200],\n",
    "    'learning_rate':[0.01,0.1,1]\n",
    "}\n",
    "AD = GridSearchCV(\n",
    "    AdaBoostClassifier(),\n",
    "    param_grid = params,\n",
    "    cv = 5,\n",
    "    n_jobs=-1\n",
    ")\n"
   ]
  },
  {
   "cell_type": "code",
   "execution_count": 13,
   "id": "b200c0df-8b8b-43cb-978b-128ea12851ff",
   "metadata": {},
   "outputs": [
    {
     "data": {
      "text/plain": [
       "np.float64(0.9691214225129196)"
      ]
     },
     "execution_count": 13,
     "metadata": {},
     "output_type": "execute_result"
    }
   ],
   "source": [
    "AD.fit(train,Y)\n",
    "AD.best_score_"
   ]
  },
  {
   "cell_type": "code",
   "execution_count": 14,
   "id": "6a14b089-3be8-454b-a599-250a31ef7a95",
   "metadata": {},
   "outputs": [
    {
     "data": {
      "text/plain": [
       "{'learning_rate': 1, 'n_estimators': 100}"
      ]
     },
     "execution_count": 14,
     "metadata": {},
     "output_type": "execute_result"
    }
   ],
   "source": [
    "AD.best_params_"
   ]
  },
  {
   "cell_type": "code",
   "execution_count": 15,
   "id": "6c1317fa-5bf5-44f3-ba32-1486b2bb0959",
   "metadata": {},
   "outputs": [
    {
     "data": {
      "text/plain": [
       "np.float64(0.9689590110718829)"
      ]
     },
     "execution_count": 15,
     "metadata": {},
     "output_type": "execute_result"
    }
   ],
   "source": [
    "ada =  AdaBoostClassifier(learning_rate = 1,n_estimators = 50)\n",
    "cross_val_score(ada,train,Y,cv = 10).mean()"
   ]
  },
  {
   "cell_type": "code",
   "execution_count": 16,
   "id": "61e65b5d-558a-4db1-aab7-046e66460fc9",
   "metadata": {},
   "outputs": [],
   "source": [
    "params = {\n",
    "    \"loss\" : ['log_loss','exponential'],\n",
    "    \"learning_rate\": [0.01,0.01,0.1,1],\n",
    "    \"n_estimators\"  : [5,10,15,20,25,50,100,200],   \n",
    "    \"max_leaf_nodes\" : [2,4,6,10,12]\n",
    "}\n",
    "GD = GridSearchCV(\n",
    "    GradientBoostingClassifier(),\n",
    "    param_grid = params,\n",
    "    cv = 5,\n",
    "    n_jobs=-1\n",
    ")"
   ]
  },
  {
   "cell_type": "code",
   "execution_count": 17,
   "id": "7ccfe073-d7d3-4431-b8a8-52115e8f9340",
   "metadata": {},
   "outputs": [
    {
     "data": {
      "text/plain": [
       "np.float64(0.969067441406307)"
      ]
     },
     "execution_count": 17,
     "metadata": {},
     "output_type": "execute_result"
    }
   ],
   "source": [
    "GD.fit(train,Y)\n",
    "GD.best_score_"
   ]
  },
  {
   "cell_type": "code",
   "execution_count": 18,
   "id": "993cbf11-5234-4857-bc48-9f782f63efd3",
   "metadata": {},
   "outputs": [
    {
     "data": {
      "text/plain": [
       "{'learning_rate': 0.1,\n",
       " 'loss': 'log_loss',\n",
       " 'max_leaf_nodes': 4,\n",
       " 'n_estimators': 50}"
      ]
     },
     "execution_count": 18,
     "metadata": {},
     "output_type": "execute_result"
    }
   ],
   "source": [
    "GD.best_params_"
   ]
  },
  {
   "cell_type": "code",
   "execution_count": 19,
   "id": "528429d2-feb4-49aa-9da2-50239b350744",
   "metadata": {},
   "outputs": [
    {
     "data": {
      "text/plain": [
       "np.float64(0.9689050153915371)"
      ]
     },
     "execution_count": 19,
     "metadata": {},
     "output_type": "execute_result"
    }
   ],
   "source": [
    "gd =  GradientBoostingClassifier(learning_rate = 0.1, max_leaf_nodes = 4, n_estimators = 50)\n",
    "cross_val_score(gd,train,Y,cv = 10).mean()"
   ]
  },
  {
   "cell_type": "code",
   "execution_count": 20,
   "id": "ab651ee1-2253-4da8-adf0-bf33036140e8",
   "metadata": {},
   "outputs": [
    {
     "data": {
      "text/plain": [
       "np.float64(0.9686891492285582)"
      ]
     },
     "execution_count": 20,
     "metadata": {},
     "output_type": "execute_result"
    }
   ],
   "source": [
    "kn = KNeighborsClassifier(n_neighbors=37)\n",
    "cross_val_score(kn,train,Y,cv = 10).mean()"
   ]
  },
  {
   "cell_type": "code",
   "execution_count": 21,
   "id": "19e0a37f-2b0d-40e4-af83-7e3a230bde62",
   "metadata": {},
   "outputs": [],
   "source": [
    "\n",
    "m1 = LogisticRegression()\n",
    "m2 = RandomForestClassifier(max_depth = 6, max_features = 0.4, max_samples = 0.3, n_estimators = 10)\n",
    "m3 = GaussianNB()\n",
    "m4 = DecisionTreeClassifier()\n",
    "m5 = SVC()\n",
    "m6 = AdaBoostClassifier(learning_rate = 1,n_estimators = 50)\n",
    "m7 = GradientBoostingClassifier(learning_rate = 0.1, max_leaf_nodes = 4, n_estimators = 50)\n",
    "\n",
    "estimators = [('lg',m1),('rf',m2),('nb',m3),('dt',m4),('svc',m5),('ada',m6),('gb',m7)]\n",
    "m8 = VotingClassifier(voting='hard', estimators= estimators)\n",
    "m9 = KNeighborsClassifier(n_neighbors=30)"
   ]
  },
  {
   "cell_type": "code",
   "execution_count": 22,
   "id": "55a82b37-aaec-42b1-ac50-8aeb252560c9",
   "metadata": {},
   "outputs": [
    {
     "name": "stderr",
     "output_type": "stream",
     "text": [
      "/Library/Frameworks/Python.framework/Versions/3.13/lib/python3.13/site-packages/joblib/externals/loky/process_executor.py:782: UserWarning: A worker stopped while some jobs were given to the executor. This can be caused by a too short worker timeout or by a memory leak.\n",
      "  warnings.warn(\n"
     ]
    },
    {
     "data": {
      "text/plain": [
       "np.float64(0.9687970531704467)"
      ]
     },
     "execution_count": 22,
     "metadata": {},
     "output_type": "execute_result"
    }
   ],
   "source": [
    "estimators = [('rf',m1),('nb',m2),('dt',m3),('svc',m4),('ada',m5),('gb',m6),('vt',m7),('kn',m8)]\n",
    "stacking1 = StackingClassifier(estimators=estimators,final_estimator = m9,cv=10,n_jobs = -1)\n",
    "cross_val_score(stacking1,train,Y,cv = 10).mean()"
   ]
  },
  {
   "cell_type": "code",
   "execution_count": 23,
   "id": "b57b80a4-9d79-4ed0-a536-d09782fed95c",
   "metadata": {},
   "outputs": [
    {
     "name": "stderr",
     "output_type": "stream",
     "text": [
      "/Library/Frameworks/Python.framework/Versions/3.13/lib/python3.13/site-packages/joblib/externals/loky/process_executor.py:782: UserWarning: A worker stopped while some jobs were given to the executor. This can be caused by a too short worker timeout or by a memory leak.\n",
      "  warnings.warn(\n"
     ]
    },
    {
     "data": {
      "text/plain": [
       "np.float64(0.9686890618097556)"
      ]
     },
     "execution_count": 23,
     "metadata": {},
     "output_type": "execute_result"
    }
   ],
   "source": [
    "estimators = [('rf',m1),('nb',m2),('dt',m3),('svc',m4),('ada',m5),('gb',m6),('vt',m7),('kn',m8)]\n",
    "stacking2 = StackingClassifier(estimators=estimators,final_estimator = m2,cv=10,n_jobs = -1)\n",
    "cross_val_score(stacking2,train,Y,cv = 10).mean()"
   ]
  }
 ],
 "metadata": {
  "kernelspec": {
   "display_name": "Python 3 (ipykernel)",
   "language": "python",
   "name": "python3"
  },
  "language_info": {
   "codemirror_mode": {
    "name": "ipython",
    "version": 3
   },
   "file_extension": ".py",
   "mimetype": "text/x-python",
   "name": "python",
   "nbconvert_exporter": "python",
   "pygments_lexer": "ipython3",
   "version": "3.13.2"
  }
 },
 "nbformat": 4,
 "nbformat_minor": 5
}
